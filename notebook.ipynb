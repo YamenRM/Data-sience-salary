{
 "cells": [
  {
   "cell_type": "markdown",
   "id": "fff56347",
   "metadata": {},
   "source": [
    " 1- importing librarys for the project:-"
   ]
  },
  {
   "cell_type": "code",
   "execution_count": null,
   "id": "1c7fdc34",
   "metadata": {},
   "outputs": [],
   "source": [
    "import pandas as pd\n",
    "\n",
    "import matplotlib.pyplot as plt"
   ]
  },
  {
   "cell_type": "markdown",
   "id": "3d85857c",
   "metadata": {},
   "source": [
    "2-importing data and looking for missing data and any unuseful data:-"
   ]
  },
  {
   "cell_type": "code",
   "execution_count": 10,
   "id": "cac31ba4",
   "metadata": {},
   "outputs": [],
   "source": [
    "df = pd.read_csv('DATA/Raw Data.csv')\n",
    "\n",
    "df.isnull().sum()\n",
    "\n",
    "df=df.drop({'Unnamed: 0'} , axis=1)\n"
   ]
  },
  {
   "cell_type": "markdown",
   "id": "ff942fe8",
   "metadata": {},
   "source": [
    "3- ploting the data and make hypotisis:-"
   ]
  }
 ],
 "metadata": {
  "kernelspec": {
   "display_name": ".venv",
   "language": "python",
   "name": "python3"
  },
  "language_info": {
   "codemirror_mode": {
    "name": "ipython",
    "version": 3
   },
   "file_extension": ".py",
   "mimetype": "text/x-python",
   "name": "python",
   "nbconvert_exporter": "python",
   "pygments_lexer": "ipython3",
   "version": "3.13.5"
  }
 },
 "nbformat": 4,
 "nbformat_minor": 5
}
